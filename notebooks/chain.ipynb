{
 "cells": [
  {
   "cell_type": "code",
   "execution_count": 2,
   "metadata": {},
   "outputs": [
    {
     "name": "stdout",
     "output_type": "stream",
     "text": [
      "Requirement already satisfied: langchain in /Users/eric/.pyenv/versions/3.11.8/envs/inv-venv/lib/python3.11/site-packages (0.2.3)\n",
      "Requirement already satisfied: langchain-community in /Users/eric/.pyenv/versions/3.11.8/envs/inv-venv/lib/python3.11/site-packages (0.2.4)\n",
      "Requirement already satisfied: langchain-openai in /Users/eric/.pyenv/versions/3.11.8/envs/inv-venv/lib/python3.11/site-packages (0.1.8)\n",
      "Requirement already satisfied: python-dotenv in /Users/eric/.pyenv/versions/3.11.8/envs/inv-venv/lib/python3.11/site-packages (1.0.1)\n",
      "Requirement already satisfied: langgraph in /Users/eric/.pyenv/versions/3.11.8/envs/inv-venv/lib/python3.11/site-packages (0.0.65)\n",
      "Requirement already satisfied: PyYAML>=5.3 in /Users/eric/.pyenv/versions/3.11.8/envs/inv-venv/lib/python3.11/site-packages (from langchain) (6.0.1)\n",
      "Requirement already satisfied: SQLAlchemy<3,>=1.4 in /Users/eric/.pyenv/versions/3.11.8/envs/inv-venv/lib/python3.11/site-packages (from langchain) (2.0.30)\n",
      "Requirement already satisfied: aiohttp<4.0.0,>=3.8.3 in /Users/eric/.pyenv/versions/3.11.8/envs/inv-venv/lib/python3.11/site-packages (from langchain) (3.9.5)\n",
      "Requirement already satisfied: langchain-core<0.3.0,>=0.2.0 in /Users/eric/.pyenv/versions/3.11.8/envs/inv-venv/lib/python3.11/site-packages (from langchain) (0.2.5)\n",
      "Requirement already satisfied: langchain-text-splitters<0.3.0,>=0.2.0 in /Users/eric/.pyenv/versions/3.11.8/envs/inv-venv/lib/python3.11/site-packages (from langchain) (0.2.1)\n",
      "Requirement already satisfied: langsmith<0.2.0,>=0.1.17 in /Users/eric/.pyenv/versions/3.11.8/envs/inv-venv/lib/python3.11/site-packages (from langchain) (0.1.75)\n",
      "Requirement already satisfied: numpy<2,>=1 in /Users/eric/.pyenv/versions/3.11.8/envs/inv-venv/lib/python3.11/site-packages (from langchain) (1.26.4)\n",
      "Requirement already satisfied: pydantic<3,>=1 in /Users/eric/.pyenv/versions/3.11.8/envs/inv-venv/lib/python3.11/site-packages (from langchain) (2.7.3)\n",
      "Requirement already satisfied: requests<3,>=2 in /Users/eric/.pyenv/versions/3.11.8/envs/inv-venv/lib/python3.11/site-packages (from langchain) (2.32.3)\n",
      "Requirement already satisfied: tenacity<9.0.0,>=8.1.0 in /Users/eric/.pyenv/versions/3.11.8/envs/inv-venv/lib/python3.11/site-packages (from langchain) (8.3.0)\n",
      "Requirement already satisfied: dataclasses-json<0.7,>=0.5.7 in /Users/eric/.pyenv/versions/3.11.8/envs/inv-venv/lib/python3.11/site-packages (from langchain-community) (0.6.6)\n",
      "Requirement already satisfied: openai<2.0.0,>=1.26.0 in /Users/eric/.pyenv/versions/3.11.8/envs/inv-venv/lib/python3.11/site-packages (from langchain-openai) (1.32.0)\n",
      "Requirement already satisfied: tiktoken<1,>=0.7 in /Users/eric/.pyenv/versions/3.11.8/envs/inv-venv/lib/python3.11/site-packages (from langchain-openai) (0.7.0)\n",
      "Requirement already satisfied: aiosignal>=1.1.2 in /Users/eric/.pyenv/versions/3.11.8/envs/inv-venv/lib/python3.11/site-packages (from aiohttp<4.0.0,>=3.8.3->langchain) (1.3.1)\n",
      "Requirement already satisfied: attrs>=17.3.0 in /Users/eric/.pyenv/versions/3.11.8/envs/inv-venv/lib/python3.11/site-packages (from aiohttp<4.0.0,>=3.8.3->langchain) (23.2.0)\n",
      "Requirement already satisfied: frozenlist>=1.1.1 in /Users/eric/.pyenv/versions/3.11.8/envs/inv-venv/lib/python3.11/site-packages (from aiohttp<4.0.0,>=3.8.3->langchain) (1.4.1)\n",
      "Requirement already satisfied: multidict<7.0,>=4.5 in /Users/eric/.pyenv/versions/3.11.8/envs/inv-venv/lib/python3.11/site-packages (from aiohttp<4.0.0,>=3.8.3->langchain) (6.0.5)\n",
      "Requirement already satisfied: yarl<2.0,>=1.0 in /Users/eric/.pyenv/versions/3.11.8/envs/inv-venv/lib/python3.11/site-packages (from aiohttp<4.0.0,>=3.8.3->langchain) (1.9.4)\n",
      "Requirement already satisfied: marshmallow<4.0.0,>=3.18.0 in /Users/eric/.pyenv/versions/3.11.8/envs/inv-venv/lib/python3.11/site-packages (from dataclasses-json<0.7,>=0.5.7->langchain-community) (3.21.3)\n",
      "Requirement already satisfied: typing-inspect<1,>=0.4.0 in /Users/eric/.pyenv/versions/3.11.8/envs/inv-venv/lib/python3.11/site-packages (from dataclasses-json<0.7,>=0.5.7->langchain-community) (0.9.0)\n",
      "Requirement already satisfied: jsonpatch<2.0,>=1.33 in /Users/eric/.pyenv/versions/3.11.8/envs/inv-venv/lib/python3.11/site-packages (from langchain-core<0.3.0,>=0.2.0->langchain) (1.33)\n",
      "Requirement already satisfied: packaging<24.0,>=23.2 in /Users/eric/.pyenv/versions/3.11.8/envs/inv-venv/lib/python3.11/site-packages (from langchain-core<0.3.0,>=0.2.0->langchain) (23.2)\n",
      "Requirement already satisfied: orjson<4.0.0,>=3.9.14 in /Users/eric/.pyenv/versions/3.11.8/envs/inv-venv/lib/python3.11/site-packages (from langsmith<0.2.0,>=0.1.17->langchain) (3.10.3)\n",
      "Requirement already satisfied: anyio<5,>=3.5.0 in /Users/eric/.pyenv/versions/3.11.8/envs/inv-venv/lib/python3.11/site-packages (from openai<2.0.0,>=1.26.0->langchain-openai) (4.4.0)\n",
      "Requirement already satisfied: distro<2,>=1.7.0 in /Users/eric/.pyenv/versions/3.11.8/envs/inv-venv/lib/python3.11/site-packages (from openai<2.0.0,>=1.26.0->langchain-openai) (1.9.0)\n",
      "Requirement already satisfied: httpx<1,>=0.23.0 in /Users/eric/.pyenv/versions/3.11.8/envs/inv-venv/lib/python3.11/site-packages (from openai<2.0.0,>=1.26.0->langchain-openai) (0.27.0)\n",
      "Requirement already satisfied: sniffio in /Users/eric/.pyenv/versions/3.11.8/envs/inv-venv/lib/python3.11/site-packages (from openai<2.0.0,>=1.26.0->langchain-openai) (1.3.1)\n",
      "Requirement already satisfied: tqdm>4 in /Users/eric/.pyenv/versions/3.11.8/envs/inv-venv/lib/python3.11/site-packages (from openai<2.0.0,>=1.26.0->langchain-openai) (4.66.4)\n",
      "Requirement already satisfied: typing-extensions<5,>=4.7 in /Users/eric/.pyenv/versions/3.11.8/envs/inv-venv/lib/python3.11/site-packages (from openai<2.0.0,>=1.26.0->langchain-openai) (4.12.1)\n",
      "Requirement already satisfied: annotated-types>=0.4.0 in /Users/eric/.pyenv/versions/3.11.8/envs/inv-venv/lib/python3.11/site-packages (from pydantic<3,>=1->langchain) (0.7.0)\n",
      "Requirement already satisfied: pydantic-core==2.18.4 in /Users/eric/.pyenv/versions/3.11.8/envs/inv-venv/lib/python3.11/site-packages (from pydantic<3,>=1->langchain) (2.18.4)\n",
      "Requirement already satisfied: charset-normalizer<4,>=2 in /Users/eric/.pyenv/versions/3.11.8/envs/inv-venv/lib/python3.11/site-packages (from requests<3,>=2->langchain) (3.3.2)\n",
      "Requirement already satisfied: idna<4,>=2.5 in /Users/eric/.pyenv/versions/3.11.8/envs/inv-venv/lib/python3.11/site-packages (from requests<3,>=2->langchain) (3.7)\n",
      "Requirement already satisfied: urllib3<3,>=1.21.1 in /Users/eric/.pyenv/versions/3.11.8/envs/inv-venv/lib/python3.11/site-packages (from requests<3,>=2->langchain) (2.2.1)\n",
      "Requirement already satisfied: certifi>=2017.4.17 in /Users/eric/.pyenv/versions/3.11.8/envs/inv-venv/lib/python3.11/site-packages (from requests<3,>=2->langchain) (2024.6.2)\n",
      "Requirement already satisfied: regex>=2022.1.18 in /Users/eric/.pyenv/versions/3.11.8/envs/inv-venv/lib/python3.11/site-packages (from tiktoken<1,>=0.7->langchain-openai) (2024.5.15)\n",
      "Requirement already satisfied: httpcore==1.* in /Users/eric/.pyenv/versions/3.11.8/envs/inv-venv/lib/python3.11/site-packages (from httpx<1,>=0.23.0->openai<2.0.0,>=1.26.0->langchain-openai) (1.0.5)\n",
      "Requirement already satisfied: h11<0.15,>=0.13 in /Users/eric/.pyenv/versions/3.11.8/envs/inv-venv/lib/python3.11/site-packages (from httpcore==1.*->httpx<1,>=0.23.0->openai<2.0.0,>=1.26.0->langchain-openai) (0.14.0)\n",
      "Requirement already satisfied: jsonpointer>=1.9 in /Users/eric/.pyenv/versions/3.11.8/envs/inv-venv/lib/python3.11/site-packages (from jsonpatch<2.0,>=1.33->langchain-core<0.3.0,>=0.2.0->langchain) (2.4)\n",
      "Requirement already satisfied: mypy-extensions>=0.3.0 in /Users/eric/.pyenv/versions/3.11.8/envs/inv-venv/lib/python3.11/site-packages (from typing-inspect<1,>=0.4.0->dataclasses-json<0.7,>=0.5.7->langchain-community) (1.0.0)\n",
      "Note: you may need to restart the kernel to use updated packages.\n"
     ]
    }
   ],
   "source": [
    "%pip install langchain langchain-community langchain-openai python-dotenv langgraph"
   ]
  },
  {
   "cell_type": "code",
   "execution_count": 3,
   "metadata": {},
   "outputs": [
    {
     "name": "stdout",
     "output_type": "stream",
     "text": [
      "sqlite\n",
      "['inventory']\n"
     ]
    },
    {
     "data": {
      "text/plain": [
       "\"[(1, 'Adapter', 'AC to USB-A with button', 1, 'w1'), (2, 'Device', 'Asus mini laptop', 1, 'w1'), (3, 'Adapter', 'Govee 12V - 1.5A', 2, 'w1'), (4, 'Adapter', 'Single 5V 1A', 7, 'w1'), (5, 'Adapter', 'AC to USB-C', 1, 'w1'), (6, 'Adapter', '19V - 2.1A', 1, 'w1'), (7, 'Adapter', '5V - 2A', 2, 'w1'), (8, 'Adapter', '12V - 1.5A', 1, 'w1'), (9, 'Adapter', 'Double 5V - 2.1A', 1, 'w1'), (10, 'Adapter', 'Double 5V - 2.4A', 1, 'w1')]\""
      ]
     },
     "execution_count": 3,
     "metadata": {},
     "output_type": "execute_result"
    }
   ],
   "source": [
    "from langchain_community.utilities import SQLDatabase\n",
    "\n",
    "db = SQLDatabase.from_uri(\"sqlite:///inv.db\")\n",
    "print(db.dialect)\n",
    "print(db.get_usable_table_names())\n",
    "db.run(\"SELECT * FROM inventory LIMIT 10;\")"
   ]
  },
  {
   "cell_type": "code",
   "execution_count": 4,
   "metadata": {},
   "outputs": [],
   "source": [
    "from langchain_openai import ChatOpenAI\n",
    "\n",
    "llm = ChatOpenAI(model=\"gpt-4o\", temperature=0.3)"
   ]
  },
  {
   "cell_type": "code",
   "execution_count": 5,
   "metadata": {},
   "outputs": [
    {
     "data": {
      "text/plain": [
       "[QuerySQLDataBaseTool(description=\"Input to this tool is a detailed and correct SQL query, output is a result from the database. If the query is not correct, an error message will be returned. If an error is returned, rewrite the query, check the query, and try again. If you encounter an issue with Unknown column 'xxxx' in 'field list', use sql_db_schema to query the correct table fields.\", db=<langchain_community.utilities.sql_database.SQLDatabase object at 0x11a903610>),\n",
       " InfoSQLDatabaseTool(description='Input to this tool is a comma-separated list of tables, output is the schema and sample rows for those tables. Be sure that the tables actually exist by calling sql_db_list_tables first! Example Input: table1, table2, table3', db=<langchain_community.utilities.sql_database.SQLDatabase object at 0x11a903610>),\n",
       " ListSQLDatabaseTool(db=<langchain_community.utilities.sql_database.SQLDatabase object at 0x11a903610>),\n",
       " QuerySQLCheckerTool(description='Use this tool to double check if your query is correct before executing it. Always use this tool before executing a query with sql_db_query!', db=<langchain_community.utilities.sql_database.SQLDatabase object at 0x11a903610>, llm=ChatOpenAI(client=<openai.resources.chat.completions.Completions object at 0x11ba34950>, async_client=<openai.resources.chat.completions.AsyncCompletions object at 0x11ba38ad0>, model_name='gpt-4o', temperature=0.3, openai_api_key=SecretStr('**********'), openai_proxy=''), llm_chain=LLMChain(prompt=PromptTemplate(input_variables=['dialect', 'query'], template='\\n{query}\\nDouble check the {dialect} query above for common mistakes, including:\\n- Using NOT IN with NULL values\\n- Using UNION when UNION ALL should have been used\\n- Using BETWEEN for exclusive ranges\\n- Data type mismatch in predicates\\n- Properly quoting identifiers\\n- Using the correct number of arguments for functions\\n- Casting to the correct data type\\n- Using the proper columns for joins\\n\\nIf there are any of the above mistakes, rewrite the query. If there are no mistakes, just reproduce the original query.\\n\\nOutput the final SQL query only.\\n\\nSQL Query: '), llm=ChatOpenAI(client=<openai.resources.chat.completions.Completions object at 0x11ba34950>, async_client=<openai.resources.chat.completions.AsyncCompletions object at 0x11ba38ad0>, model_name='gpt-4o', temperature=0.3, openai_api_key=SecretStr('**********'), openai_proxy='')))]"
      ]
     },
     "execution_count": 5,
     "metadata": {},
     "output_type": "execute_result"
    }
   ],
   "source": [
    "from langchain_community.agent_toolkits import SQLDatabaseToolkit\n",
    "\n",
    "toolkit = SQLDatabaseToolkit(db=db, llm=llm)\n",
    "\n",
    "tools = toolkit.get_tools()\n",
    "\n",
    "tools"
   ]
  },
  {
   "cell_type": "code",
   "execution_count": 6,
   "metadata": {},
   "outputs": [],
   "source": [
    "from langchain_core.messages import SystemMessage\n",
    "\n",
    "SQL_PREFIX = \"\"\"You are an agent designed to interact with a SQL database.\n",
    "Given an input question, create a syntactically correct SQLite query to run, then look at the results of the query and return the answer.\n",
    "Unless the user specifies a specific number of examples they wish to obtain, always limit your query to at most 5 results.\n",
    "You can order the results by a relevant column to return the most interesting examples in the database.\n",
    "Never query for all the columns from a specific table, only ask for the relevant columns given the question.\n",
    "You have access to tools for interacting with the database.\n",
    "Only use the below tools. Only use the information returned by the below tools to construct your final answer.\n",
    "You MUST double check your query before executing it. If you get an error while executing a query, rewrite the query and try again.\n",
    "\n",
    "DO NOT make any DML statements (INSERT, UPDATE, DELETE, DROP etc.) to the database.\n",
    "\n",
    "To start you should ALWAYS look at the tables in the database to see what you can query.\n",
    "Do NOT skip this step.\n",
    "Then you should query the schema of the most relevant tables.\"\"\"\n",
    "\n",
    "system_message = SystemMessage(content=SQL_PREFIX)"
   ]
  },
  {
   "cell_type": "code",
   "execution_count": 11,
   "metadata": {},
   "outputs": [
    {
     "name": "stdout",
     "output_type": "stream",
     "text": [
      "{'agent': {'messages': [AIMessage(content='', additional_kwargs={'tool_calls': [{'id': 'call_kWmx5CUlBytQbLvT2EDJNomu', 'function': {'arguments': '{}', 'name': 'sql_db_list_tables'}, 'type': 'function'}]}, response_metadata={'token_usage': {'completion_tokens': 12, 'prompt_tokens': 548, 'total_tokens': 560}, 'model_name': 'gpt-4o', 'system_fingerprint': 'fp_aa87380ac5', 'finish_reason': 'tool_calls', 'logprobs': None}, id='run-87ea2059-42ba-4d9e-9d05-c0dc341a16ca-0', tool_calls=[{'name': 'sql_db_list_tables', 'args': {}, 'id': 'call_kWmx5CUlBytQbLvT2EDJNomu'}], usage_metadata={'input_tokens': 548, 'output_tokens': 12, 'total_tokens': 560})]}}\n",
      "---\n",
      "{'tools': {'messages': [ToolMessage(content='inventory', name='sql_db_list_tables', tool_call_id='call_kWmx5CUlBytQbLvT2EDJNomu')]}}\n",
      "---\n",
      "{'agent': {'messages': [AIMessage(content='', additional_kwargs={'tool_calls': [{'id': 'call_brOWkvihpimRIdNGL6iyOKOM', 'function': {'arguments': '{\"table_names\":\"inventory\"}', 'name': 'sql_db_schema'}, 'type': 'function'}]}, response_metadata={'token_usage': {'completion_tokens': 16, 'prompt_tokens': 571, 'total_tokens': 587}, 'model_name': 'gpt-4o', 'system_fingerprint': 'fp_319be4768e', 'finish_reason': 'tool_calls', 'logprobs': None}, id='run-5a98200e-6bc0-4e9a-9ef4-d7119215c393-0', tool_calls=[{'name': 'sql_db_schema', 'args': {'table_names': 'inventory'}, 'id': 'call_brOWkvihpimRIdNGL6iyOKOM'}], usage_metadata={'input_tokens': 571, 'output_tokens': 16, 'total_tokens': 587})]}}\n",
      "---\n",
      "{'tools': {'messages': [ToolMessage(content='\\nCREATE TABLE inventory (\\n\\tid INTEGER, \\n\\tcategory TEXT NOT NULL, \\n\\titem TEXT NOT NULL, \\n\\tquantity INTEGER NOT NULL, \\n\\tlocation TEXT NOT NULL, \\n\\tPRIMARY KEY (id)\\n)\\n\\n/*\\n3 rows from inventory table:\\nid\\tcategory\\titem\\tquantity\\tlocation\\n1\\tAdapter\\tAC to USB-A with button\\t1\\tw1\\n2\\tDevice\\tAsus mini laptop\\t1\\tw1\\n3\\tAdapter\\tGovee 12V - 1.5A\\t2\\tw1\\n*/', name='sql_db_schema', tool_call_id='call_brOWkvihpimRIdNGL6iyOKOM')]}}\n",
      "---\n",
      "{'agent': {'messages': [AIMessage(content='', additional_kwargs={'tool_calls': [{'id': 'call_sL4kyBz3ENk4iMF4lL9BLqqu', 'function': {'arguments': '{\"query\":\"SELECT category, COUNT(*) as item_count FROM inventory GROUP BY category ORDER BY item_count DESC LIMIT 1;\"}', 'name': 'sql_db_query_checker'}, 'type': 'function'}]}, response_metadata={'token_usage': {'completion_tokens': 37, 'prompt_tokens': 700, 'total_tokens': 737}, 'model_name': 'gpt-4o', 'system_fingerprint': 'fp_7f0c5ac075', 'finish_reason': 'tool_calls', 'logprobs': None}, id='run-a8fc8ab7-a958-433b-9c43-9e645d3c2c15-0', tool_calls=[{'name': 'sql_db_query_checker', 'args': {'query': 'SELECT category, COUNT(*) as item_count FROM inventory GROUP BY category ORDER BY item_count DESC LIMIT 1;'}, 'id': 'call_sL4kyBz3ENk4iMF4lL9BLqqu'}], usage_metadata={'input_tokens': 700, 'output_tokens': 37, 'total_tokens': 737})]}}\n",
      "---\n"
     ]
    },
    {
     "name": "stderr",
     "output_type": "stream",
     "text": [
      "Error in LangChainTracer.on_tool_end callback: TracerException(\"Found chain run at ID f0b0a0ec-f3a0-49b3-a4c8-1fc18bf5f66a, but expected {'tool'} run.\")\n"
     ]
    },
    {
     "name": "stdout",
     "output_type": "stream",
     "text": [
      "{'tools': {'messages': [ToolMessage(content='```sql\\nSELECT category, COUNT(*) as item_count \\nFROM inventory \\nGROUP BY category \\nORDER BY item_count DESC \\nLIMIT 1;\\n```', name='sql_db_query_checker', tool_call_id='call_sL4kyBz3ENk4iMF4lL9BLqqu')]}}\n",
      "---\n",
      "{'agent': {'messages': [AIMessage(content='', additional_kwargs={'tool_calls': [{'id': 'call_3jrOeKX8zK2YWgoJAp1fC7gy', 'function': {'arguments': '{\"query\":\"SELECT category, COUNT(*) as item_count FROM inventory GROUP BY category ORDER BY item_count DESC LIMIT 1;\"}', 'name': 'sql_db_query'}, 'type': 'function'}]}, response_metadata={'token_usage': {'completion_tokens': 36, 'prompt_tokens': 777, 'total_tokens': 813}, 'model_name': 'gpt-4o', 'system_fingerprint': 'fp_319be4768e', 'finish_reason': 'tool_calls', 'logprobs': None}, id='run-d9afa219-e6e9-48e4-8323-d77dfad17c84-0', tool_calls=[{'name': 'sql_db_query', 'args': {'query': 'SELECT category, COUNT(*) as item_count FROM inventory GROUP BY category ORDER BY item_count DESC LIMIT 1;'}, 'id': 'call_3jrOeKX8zK2YWgoJAp1fC7gy'}], usage_metadata={'input_tokens': 777, 'output_tokens': 36, 'total_tokens': 813})]}}\n",
      "---\n",
      "{'tools': {'messages': [ToolMessage(content=\"[('Adapter', 9)]\", name='sql_db_query', tool_call_id='call_3jrOeKX8zK2YWgoJAp1fC7gy')]}}\n",
      "---\n",
      "{'agent': {'messages': [AIMessage(content='The category with the most items is \"Adapter\" with 9 items.', response_metadata={'token_usage': {'completion_tokens': 16, 'prompt_tokens': 829, 'total_tokens': 845}, 'model_name': 'gpt-4o', 'system_fingerprint': 'fp_319be4768e', 'finish_reason': 'stop', 'logprobs': None}, id='run-1bfec716-a542-420b-bba5-b9f3278301a5-0', usage_metadata={'input_tokens': 829, 'output_tokens': 16, 'total_tokens': 845})]}}\n",
      "---\n"
     ]
    }
   ],
   "source": [
    "from langchain_core.messages import HumanMessage\n",
    "from langgraph.prebuilt import create_react_agent\n",
    "\n",
    "agent_executor = create_react_agent(llm, tools, messages_modifier=system_message)\n",
    "\n",
    "inputs =  {\"messages\": [(\"user\", \"which category has the most items?\")]}\n",
    "for s in agent_executor.stream(inputs, stream_mode=\"updates\"):\n",
    "    print(s)\n",
    "    print(\"---\")"
   ]
  },
  {
   "cell_type": "code",
   "execution_count": null,
   "metadata": {},
   "outputs": [],
   "source": []
  }
 ],
 "metadata": {
  "kernelspec": {
   "display_name": "inv-venv",
   "language": "python",
   "name": "python3"
  },
  "language_info": {
   "codemirror_mode": {
    "name": "ipython",
    "version": 3
   },
   "file_extension": ".py",
   "mimetype": "text/x-python",
   "name": "python",
   "nbconvert_exporter": "python",
   "pygments_lexer": "ipython3",
   "version": "3.11.8"
  }
 },
 "nbformat": 4,
 "nbformat_minor": 2
}
