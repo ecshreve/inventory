{
 "cells": [
  {
   "cell_type": "code",
   "execution_count": 40,
   "metadata": {},
   "outputs": [
    {
     "name": "stdout",
     "output_type": "stream",
     "text": [
      "Requirement already satisfied: gql in /Users/eric/.pyenv/versions/3.11.8/envs/inv-venv/lib/python3.11/site-packages (3.5.0)\n",
      "Requirement already satisfied: graphql-core<3.3,>=3.2 in /Users/eric/.pyenv/versions/3.11.8/envs/inv-venv/lib/python3.11/site-packages (from gql) (3.2.3)\n",
      "Requirement already satisfied: yarl<2.0,>=1.6 in /Users/eric/.pyenv/versions/3.11.8/envs/inv-venv/lib/python3.11/site-packages (from gql) (1.9.4)\n",
      "Requirement already satisfied: backoff<3.0,>=1.11.1 in /Users/eric/.pyenv/versions/3.11.8/envs/inv-venv/lib/python3.11/site-packages (from gql) (2.2.1)\n",
      "Requirement already satisfied: anyio<5,>=3.0 in /Users/eric/.pyenv/versions/3.11.8/envs/inv-venv/lib/python3.11/site-packages (from gql) (4.4.0)\n",
      "Requirement already satisfied: idna>=2.8 in /Users/eric/.pyenv/versions/3.11.8/envs/inv-venv/lib/python3.11/site-packages (from anyio<5,>=3.0->gql) (3.7)\n",
      "Requirement already satisfied: sniffio>=1.1 in /Users/eric/.pyenv/versions/3.11.8/envs/inv-venv/lib/python3.11/site-packages (from anyio<5,>=3.0->gql) (1.3.1)\n",
      "Requirement already satisfied: multidict>=4.0 in /Users/eric/.pyenv/versions/3.11.8/envs/inv-venv/lib/python3.11/site-packages (from yarl<2.0,>=1.6->gql) (6.0.5)\n",
      "Note: you may need to restart the kernel to use updated packages.\n"
     ]
    }
   ],
   "source": [
    "%pip install gql"
   ]
  },
  {
   "cell_type": "code",
   "execution_count": 41,
   "metadata": {},
   "outputs": [],
   "source": [
    "from gql import gql, Client\n",
    "from gql.transport.aiohttp import AIOHTTPTransport\n",
    "import pandas as pd\n",
    "\n",
    "# Define the transport\n",
    "transport = AIOHTTPTransport(url=\"http://localhost:8081/query\")\n",
    "\n",
    "# Create a GraphQL client\n",
    "client = Client(transport=transport, fetch_schema_from_transport=True)\n",
    "\n",
    "async def get_items() -> pd.DataFrame:\n",
    "  # Define a query\n",
    "  query = gql(\"\"\"\n",
    "  query getItems {\n",
    "    items {\n",
    "      edges {\n",
    "          node {\n",
    "              id\n",
    "              name\n",
    "              quantity\n",
    "              category\n",
    "              storageLocation {\n",
    "                name\n",
    "              }\n",
    "          }\n",
    "      }\n",
    "    }\n",
    "  }\n",
    "  \"\"\")\n",
    "\n",
    "  # Execute the query\n",
    "  result = await client.execute_async(query)\n",
    "  items = result['items']['edges']\n",
    "  df = pd.DataFrame([item['node'] for item in items])\n",
    "  df['storageLocation'] = df['storageLocation'].apply(lambda x: x['name'])\n",
    "  return df"
   ]
  },
  {
   "cell_type": "code",
   "execution_count": 42,
   "metadata": {},
   "outputs": [],
   "source": [
    "# issue a mutation to update the quantity of an item\n",
    "async def update_quantity(id, quantity):\n",
    "    mutation = gql(\"\"\"\n",
    "    mutation updateItem($id: ID!, $quantity: Int!) {\n",
    "        updateItem(id: $id, input: {quantity: $quantity}) {\n",
    "            id\n",
    "            name\n",
    "            quantity\n",
    "        }\n",
    "    }\n",
    "    \"\"\")\n",
    "    return await client.execute_async(mutation, variable_values={\"id\": id, \"quantity\": quantity})\n",
    "\n"
   ]
  },
  {
   "cell_type": "code",
   "execution_count": 50,
   "metadata": {},
   "outputs": [],
   "source": [
    "from curses import raw\n",
    "\n",
    "\n",
    "async def create_location(raw_name: str):\n",
    "    split_str = raw_name.split('_')\n",
    "    size_str = split_str[0]\n",
    "    color_str = split_str[2]\n",
    "\n",
    "    mutation = gql(\"\"\"\n",
    "    mutation createLocation($name: String!, $size: StorageLocationSize!, $color: StorageLocationColor!) {\n",
    "        createStorageLocation(input: {name: $name, size: $size, color: $color}) {\n",
    "            id\n",
    "            name\n",
    "        }\n",
    "    }\n",
    "    \"\"\")\n",
    "    return await client.execute_async(mutation, variable_values={\"name\": raw_name, \"size\": size_str, \"color\": color_str})"
   ]
  },
  {
   "cell_type": "code",
   "execution_count": 51,
   "metadata": {},
   "outputs": [],
   "source": [
    "df = await get_items()"
   ]
  },
  {
   "cell_type": "code",
   "execution_count": 52,
   "metadata": {},
   "outputs": [
    {
     "data": {
      "text/plain": [
       "{'createStorageLocation': {'id': '4294967301', 'name': 'half_crate_orange_1'}}"
      ]
     },
     "execution_count": 52,
     "metadata": {},
     "output_type": "execute_result"
    }
   ],
   "source": [
    "await create_location('half_crate_orange_1')"
   ]
  }
 ],
 "metadata": {
  "kernelspec": {
   "display_name": "inv-venv",
   "language": "python",
   "name": "python3"
  },
  "language_info": {
   "codemirror_mode": {
    "name": "ipython",
    "version": 3
   },
   "file_extension": ".py",
   "mimetype": "text/x-python",
   "name": "python",
   "nbconvert_exporter": "python",
   "pygments_lexer": "ipython3",
   "version": "3.11.8"
  }
 },
 "nbformat": 4,
 "nbformat_minor": 2
}
